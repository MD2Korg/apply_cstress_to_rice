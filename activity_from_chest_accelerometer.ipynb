{
 "cells": [
  {
   "cell_type": "code",
   "execution_count": 1,
   "metadata": {},
   "outputs": [
    {
     "data": {
      "text/plain": [
       "True"
      ]
     },
     "execution_count": 1,
     "metadata": {},
     "output_type": "execute_result"
    }
   ],
   "source": [
    "# from cerebralcortex.util.helper_methods import get_study_names\n",
    "# sn = get_study_names(\"/home/jupyter/cc3_conf/\")\n",
    "# print(sn)\n",
    "from pyspark.sql import functions as F\n",
    "from pyspark.sql.functions import pandas_udf, PandasUDFType\n",
    "from pyspark.sql.types import StructField, StructType, DoubleType, StringType, FloatType, TimestampType, IntegerType\n",
    "from pyspark.sql.functions import minute, second, mean, window\n",
    "from pyspark.sql import functions as F\n",
    "import numpy as np\n",
    "from cerebralcortex.core.datatypes import DataStream\n",
    "from cerebralcortex.core.metadata_manager.stream.metadata import Metadata, DataDescriptor,ModuleMetadata\n",
    "from cerebralcortex import Kernel\n",
    "import pandas as pd\n",
    "study_name = 'rice'\n",
    "CC = Kernel(\"/home/jupyter/cc3_conf/\", study_name=study_name)\n",
    "\n",
    "aclx_id = 'accelerometer_x--org.md2k.autosense--autosense_chest--chest'\n",
    "acly_id = 'accelerometer_y--org.md2k.autosense--autosense_chest--chest'\n",
    "aclz_id = 'accelerometer_z--org.md2k.autosense--autosense_chest--chest'\n",
    "\n",
    "def adc_to_acceleration(vals):\n",
    "    return np.float(((3*vals/4095) - 1.5) / 0.3)\n",
    "\n",
    "transform_udf = F.udf(adc_to_acceleration, FloatType())\n",
    "\n",
    "\n",
    "aclx = CC.get_stream(aclx_id).dropna()\n",
    "win = F.window(\"timestamp\", windowDuration='10 seconds', startTime='0 seconds',slideDuration='5 seconds')\n",
    "groupbycols = ['user','version',win]\n",
    "\n",
    "\n",
    "aclx = aclx._data.withColumn('x',transform_udf('x')).groupBy(groupbycols).agg({'x':'std'}).withColumnRenamed('stddev(x)','x')\n",
    "\n",
    "\n",
    "acly = CC.get_stream(acly_id).dropna()\n",
    "\n",
    "acly = acly._data.withColumn('y',transform_udf('y')).groupBy(groupbycols).agg({'y':'std'}).withColumnRenamed('stddev(y)','y').drop('version')\n",
    "\n",
    "\n",
    "\n",
    "aclz = CC.get_stream(aclz_id).dropna()\n",
    "\n",
    "aclz = aclz._data.withColumn('y',transform_udf('y')).groupBy(groupbycols).agg({'y':'std'}).withColumnRenamed('stddev(y)','z').drop('version')\n",
    "\n",
    "\n",
    "\n",
    "\n",
    "aclxyz_std = aclx.join(acly,['user','window']).join(aclz,['user','window'])\n",
    "\n",
    "\n",
    "stream_name = 'org.md2k.autosense.accel.std.10seconds'\n",
    "stream_metadata = Metadata()\n",
    "stream_metadata.set_name(stream_name).set_description(\"Chest Accelerometer standard deviation across all channels - Autosense\") \\\n",
    "    .add_dataDescriptor(\n",
    "    DataDescriptor().set_name(\"x\").set_type(\"double\").set_attribute(\"description\", \"accelerometer x axis std\")) \\\n",
    "    .add_dataDescriptor(\n",
    "    DataDescriptor().set_name(\"y\").set_type(\"double\").set_attribute(\"description\", \"accelerometer y axis std\")) \\\n",
    "    .add_dataDescriptor(\n",
    "    DataDescriptor().set_name(\"z\").set_type(\"double\").set_attribute(\"description\", \"accelerometer z axis std\")) \\\n",
    "    .add_dataDescriptor(\n",
    "    DataDescriptor().set_name(\"window\").set_type(\"struct\").set_attribute(\"description\", \\\n",
    "    \"window start and end time in UTC\").set_attribute('start', \\\n",
    "    'start of 1 minute window').set_attribute('end','end of 1 minute window')) \\\n",
    "    .add_module(\n",
    "    ModuleMetadata().set_name(\"fourtytwo/mullah/cc3/Untitled.ipynb\").set_attribute(\"attribute_key\", \"attribute_value\").set_author(\n",
    "        \"Md Azim Ullah\", \"mullah@memphis.edu\"))\n",
    "stream_metadata.is_valid()\n",
    "data = aclxyz_std\n",
    "ds = DataStream(data=data,metadata=stream_metadata)\n",
    "# ds.printSchema()\n",
    "CC.save_stream(ds,overwrite=True)"
   ]
  },
  {
   "cell_type": "code",
   "execution_count": 2,
   "metadata": {},
   "outputs": [
    {
     "data": {
      "text/plain": [
       "True"
      ]
     },
     "execution_count": 2,
     "metadata": {},
     "output_type": "execute_result"
    }
   ],
   "source": [
    "def adc_to_acceleration(x,y,z):\n",
    "    mag = np.sqrt(np.sum([np.square(x),np.square(y),np.square(z)]))\n",
    "    if mag>.21:\n",
    "        return 1\n",
    "    return 0\n",
    "\n",
    "transform_udf = F.udf(adc_to_acceleration, IntegerType())\n",
    "\n",
    "stream_id = 'org.md2k.autosense.accel.std.10seconds'\n",
    "aclx = CC.get_stream(stream_id)\n",
    "acl_activity = aclx.withColumn('activity',transform_udf('x','y','z')).drop(*['x','y','z'])\n",
    "\n",
    "stream_name = 'org.md2k.autosense.accel.activity.10seconds'\n",
    "stream_metadata = Metadata()\n",
    "stream_metadata.set_name(stream_name).set_description(\"Chest Accelerometer Activity in 10 second windows\") \\\n",
    "    .add_dataDescriptor(\n",
    "    DataDescriptor().set_name(\"activity\").set_type(\"integer\").set_attribute(\"description\", \\\n",
    "    \"accelerometer activity\").set_attribute('0','Stationery').set_attribute('1','Non Stationery')) \\\n",
    "    .add_module(\n",
    "    ModuleMetadata().set_name(\"fourtytwo/mullah/cc3/10_seconds_activity.ipynb\").set_attribute(\"attribute_key\", \"attribute_value\").set_author(\n",
    "        \"Md Azim Ullah\", \"mullah@memphis.edu\"))\n",
    "data = acl_activity._data\n",
    "ds = DataStream(data=data,metadata=stream_metadata)\n",
    "CC.save_stream(ds,overwrite=True)"
   ]
  },
  {
   "cell_type": "code",
   "execution_count": 3,
   "metadata": {},
   "outputs": [
    {
     "data": {
      "text/plain": [
       "19910560"
      ]
     },
     "execution_count": 3,
     "metadata": {},
     "output_type": "execute_result"
    }
   ],
   "source": [
    "CC.get_stream('org.md2k.autosense.accel.activity.10seconds').count()"
   ]
  },
  {
   "cell_type": "code",
   "execution_count": 6,
   "metadata": {},
   "outputs": [
    {
     "data": {
      "text/plain": [
       "True"
      ]
     },
     "execution_count": 6,
     "metadata": {},
     "output_type": "execute_result"
    }
   ],
   "source": [
    "import pandas as pd\n",
    "stream_id = 'org.md2k.autosense.accel.activity.10seconds'\n",
    "aclx = CC.get_stream(stream_id)\n",
    "aclx = aclx.withColumn('timestamp',F.col('window').start).drop('window')\n",
    "win = F.window(\"timestamp\", windowDuration='60 seconds', startTime='0 seconds',slideDuration='5 seconds')\n",
    "groupbycols = ['user','version',win]\n",
    "aclx = aclx._data.groupBy(groupbycols).agg({'activity':'avg'}).withColumnRenamed('avg(activity)','activity')\n",
    "acl_activity = aclx.withColumn('activity',F.when(F.col('activity')>.5,1).otherwise(0))\n",
    "acl_activity = acl_activity.withColumn('activity',F.col('activity').cast('integer'))\n",
    "stream_name = 'org.md2k.autosense.accel.activity.60seconds'\n",
    "stream_metadata = Metadata()\n",
    "stream_metadata.set_name(stream_name).set_description(\"Chest Accelerometer Activity in 60 second windows\") \\\n",
    "    .add_dataDescriptor(\n",
    "    DataDescriptor().set_name(\"activity\").set_type(\"integer\").set_attribute(\"description\", \\\n",
    "    \"accelerometer activity\").set_attribute('0','Stationery').set_attribute('1','Non Stationery')) \\\n",
    "    .add_dataDescriptor(\n",
    "    DataDescriptor().set_name(\"window\").set_type(\"struct\").set_attribute(\"description\", \\\n",
    "    \"window start and end time in UTC\").set_attribute('start', \\\n",
    "    'start of 1 minute window').set_attribute('end','end of 1 minute window')) \\\n",
    "    .add_module(\n",
    "    ModuleMetadata().set_name(\"fourtytwo/mullah/cc3/60_seconds_activity.ipynb\").set_attribute(\"attribute_key\", \"attribute_value\").set_author(\n",
    "        \"Md Azim Ullah\", \"mullah@memphis.edu\"))\n",
    "data = acl_activity\n",
    "ds = DataStream(data=data,metadata=stream_metadata)\n",
    "CC.save_stream(ds,overwrite=True)"
   ]
  },
  {
   "cell_type": "code",
   "execution_count": 7,
   "metadata": {},
   "outputs": [],
   "source": [
    "data  = CC.get_stream('org.md2k.autosense.accel.activity.60seconds')\n",
    "# acl_activity.select('activity').distinct()"
   ]
  },
  {
   "cell_type": "code",
   "execution_count": 8,
   "metadata": {},
   "outputs": [
    {
     "data": {
      "text/plain": [
       "20534162"
      ]
     },
     "execution_count": 8,
     "metadata": {},
     "output_type": "execute_result"
    }
   ],
   "source": [
    "data.count()"
   ]
  },
  {
   "cell_type": "code",
   "execution_count": 10,
   "metadata": {},
   "outputs": [
    {
     "data": {
      "text/plain": [
       "'rice'"
      ]
     },
     "execution_count": 10,
     "metadata": {},
     "output_type": "execute_result"
    }
   ],
   "source": [
    "CC.study_name"
   ]
  },
  {
   "cell_type": "code",
   "execution_count": null,
   "metadata": {},
   "outputs": [],
   "source": []
  }
 ],
 "metadata": {
  "kernelspec": {
   "display_name": "High Performance CC3.3",
   "language": "python",
   "name": "cc33_high_performance"
  },
  "language_info": {
   "codemirror_mode": {
    "name": "ipython",
    "version": 3
   },
   "file_extension": ".py",
   "mimetype": "text/x-python",
   "name": "python",
   "nbconvert_exporter": "python",
   "pygments_lexer": "ipython3",
   "version": "3.6.8"
  }
 },
 "nbformat": 4,
 "nbformat_minor": 2
}
