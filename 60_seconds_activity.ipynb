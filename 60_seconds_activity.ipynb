{
 "cells": [
  {
   "cell_type": "code",
   "execution_count": 1,
   "metadata": {},
   "outputs": [
    {
     "name": "stdout",
     "output_type": "stream",
     "text": [
      "['admin', 'dartmouth_sobc', 'default', 'demo', 'jhu_cocaine', 'md2k_aa_rice', 'md2k_labtest', 'md2k_ses_utah', 'memphis-test', 'memphis_test_study', 'moffitt', 'moffitt-test', 'moods', 'moral', 'mperf', 'mperf-alabsi', 'mperf-buder', 'mperf-mit-ll', 'mperf-test', 'northwestern_smoking', 'nu', 'opioid_study', 'osu', 'rice', 'robas', 'robas_study', 'sobclab', 'utah', 'utah_p01', 'vermont', 'vermont_smoking']\n",
      "+--------------------+-------+--------------------+--------+-------------------+-------------------+\n",
      "|                user|version|              window|activity|          timestamp|          localtime|\n",
      "+--------------------+-------+--------------------+--------+-------------------+-------------------+\n",
      "|bfc6b51c-2899-333...|      2|[2019-03-28 21:36...|       0|2019-03-28 21:36:00|2019-03-28 15:36:00|\n",
      "|bfc6b51c-2899-333...|      2|[2019-03-29 14:37...|       0|2019-03-29 14:37:00|2019-03-29 08:37:00|\n",
      "|bfc6b51c-2899-333...|      2|[2019-03-30 17:00...|       0|2019-03-30 17:00:00|2019-03-30 11:00:00|\n",
      "|bfc6b51c-2899-333...|      2|[2019-04-04 14:01...|       0|2019-04-04 14:01:00|2019-04-04 08:01:00|\n",
      "|bfc6b51c-2899-333...|      2|[2019-03-23 14:56...|       0|2019-03-23 14:56:00|2019-03-23 08:56:00|\n",
      "|bfc6b51c-2899-333...|      2|[2019-03-25 12:46...|       0|2019-03-25 12:46:00|2019-03-25 06:46:00|\n",
      "|bfc6b51c-2899-333...|      2|[2019-03-27 01:30...|       0|2019-03-27 01:30:00|2019-03-26 19:30:00|\n",
      "|bfc6b51c-2899-333...|      2|[2019-03-28 23:35...|       0|2019-03-28 23:35:00|2019-03-28 17:35:00|\n",
      "|bfc6b51c-2899-333...|      2|[2019-03-29 19:31...|       0|2019-03-29 19:31:00|2019-03-29 13:31:00|\n",
      "|bfc6b51c-2899-333...|      2|[2019-03-31 18:49...|       0|2019-03-31 18:49:00|2019-03-31 12:49:00|\n",
      "|bfc6b51c-2899-333...|      2|[2019-03-26 00:00...|       0|2019-03-26 00:00:00|2019-03-25 18:00:00|\n",
      "|bfc6b51c-2899-333...|      2|[2019-03-29 21:44...|       0|2019-03-29 21:44:00|2019-03-29 15:44:00|\n",
      "|bfc6b51c-2899-333...|      2|[2019-03-29 22:52...|       0|2019-03-29 22:52:00|2019-03-29 16:52:00|\n",
      "|bfc6b51c-2899-333...|      2|[2019-04-02 21:45...|       0|2019-04-02 21:45:00|2019-04-02 15:45:00|\n",
      "|bfc6b51c-2899-333...|      2|[2019-03-23 11:14...|       0|2019-03-23 11:14:00|2019-03-23 05:14:00|\n",
      "|bfc6b51c-2899-333...|      2|[2019-03-23 16:00...|       1|2019-03-23 16:00:00|2019-03-23 10:00:00|\n",
      "|bfc6b51c-2899-333...|      2|[2019-03-26 22:38...|       0|2019-03-26 22:38:00|2019-03-26 16:38:00|\n",
      "|bfc6b51c-2899-333...|      2|[2019-03-31 23:58...|       0|2019-03-31 23:58:00|2019-03-31 17:58:00|\n",
      "|bfc6b51c-2899-333...|      2|[2019-04-04 18:43...|       0|2019-04-04 18:43:00|2019-04-04 12:43:00|\n",
      "|bfc6b51c-2899-333...|      2|[2019-03-29 12:38...|       0|2019-03-29 12:38:00|2019-03-29 06:38:00|\n",
      "+--------------------+-------+--------------------+--------+-------------------+-------------------+\n",
      "only showing top 20 rows\n",
      "\n",
      "root\n",
      " |-- user: string (nullable = true)\n",
      " |-- version: integer (nullable = true)\n",
      " |-- window: struct (nullable = false)\n",
      " |    |-- start: timestamp (nullable = true)\n",
      " |    |-- end: timestamp (nullable = true)\n",
      " |-- activity: integer (nullable = true)\n",
      " |-- timestamp: timestamp (nullable = true)\n",
      " |-- localtime: timestamp (nullable = true)\n",
      "\n",
      "root\n",
      " |-- user: string (nullable = true)\n",
      " |-- version: integer (nullable = true)\n",
      " |-- window: struct (nullable = false)\n",
      " |    |-- start: timestamp (nullable = true)\n",
      " |    |-- end: timestamp (nullable = true)\n",
      " |-- activity: integer (nullable = true)\n",
      " |-- timestamp: timestamp (nullable = true)\n",
      " |-- localtime: timestamp (nullable = true)\n",
      "\n"
     ]
    },
    {
     "data": {
      "text/plain": [
       "True"
      ]
     },
     "execution_count": 1,
     "metadata": {},
     "output_type": "execute_result"
    }
   ],
   "source": [
    "from cerebralcortex.util.helper_methods import get_study_names\n",
    "sn = get_study_names(\"/home/jupyter/cc3_conf/\")\n",
    "print(sn)\n",
    "from pyspark.sql import functions as F\n",
    "from pyspark.sql.functions import pandas_udf, PandasUDFType\n",
    "from pyspark.sql.types import StructField, StructType, DoubleType, StringType, FloatType, TimestampType, IntegerType\n",
    "from pyspark.sql.functions import minute, second, mean, window\n",
    "from pyspark.sql import functions as F\n",
    "import numpy as np\n",
    "\n",
    "from cerebralcortex import Kernel\n",
    "CC = Kernel(\"/home/jupyter/cc3_conf/\", study_name='nu')\n",
    "\n",
    "CC.search_stream('accel')\n",
    "\n",
    "stream_id = 'org.md2k.autosense.accel.activity.10seconds'\n",
    "\n",
    "def adc_to_acceleration(x):\n",
    "    if x>=.5:\n",
    "        return 1\n",
    "    return 0\n",
    "transform_udf = F.udf(adc_to_acceleration, IntegerType())\n",
    "\n",
    "aclx = CC.get_stream(stream_id)\n",
    "\n",
    "acl_average = aclx.compute_average(windowDuration=60,startTime='0 seconds')\n",
    "\n",
    "acl_activity = acl_average.withColumn('activity',transform_udf('activity'))\n",
    "\n",
    "acl_activity.show()\n",
    "\n",
    "from cerebralcortex.core.datatypes import DataStream\n",
    "from cerebralcortex.core.metadata_manager.stream.metadata import Metadata, DataDescriptor,ModuleMetadata\n",
    "\n",
    "acl_activity.printSchema()\n",
    "\n",
    "stream_name = 'org.md2k.autosense.accel.activity.60seconds'\n",
    "stream_metadata = Metadata()\n",
    "stream_metadata.set_name(stream_name).set_description(\"Chest Accelerometer Activity in 60 second windows\") \\\n",
    "    .add_dataDescriptor(\n",
    "    DataDescriptor().set_name(\"activity\").set_type(\"integer\").set_attribute(\"description\", \\\n",
    "    \"accelerometer activity\").set_attribute('0','Stationery').set_attribute('1','Non Stationery')) \\\n",
    "    .add_dataDescriptor(\n",
    "    DataDescriptor().set_name(\"window\").set_type(\"struct\").set_attribute(\"description\", \\\n",
    "    \"window start and end time in UTC\").set_attribute('start', \\\n",
    "    'start of 1 minute window').set_attribute('end','end of 1 minute window')) \\\n",
    "    .add_module(\n",
    "    ModuleMetadata().set_name(\"fourtytwo/mullah/cc3/60_seconds_activity.ipynb\").set_attribute(\"attribute_key\", \"attribute_value\").set_author(\n",
    "        \"Md Azim Ullah\", \"mullah@memphis.edu\"))\n",
    "stream_metadata.is_valid()\n",
    "\n",
    "stream_metadata\n",
    "\n",
    "data = acl_activity._data\n",
    "\n",
    "ds = DataStream(data=data,metadata=stream_metadata)\n",
    "ds.printSchema()\n",
    "\n",
    "CC.save_stream(ds)"
   ]
  },
  {
   "cell_type": "code",
   "execution_count": 2,
   "metadata": {},
   "outputs": [
    {
     "data": {
      "text/plain": [
       "727475"
      ]
     },
     "execution_count": 2,
     "metadata": {},
     "output_type": "execute_result"
    }
   ],
   "source": [
    "ds.count()"
   ]
  },
  {
   "cell_type": "code",
   "execution_count": null,
   "metadata": {},
   "outputs": [],
   "source": [
    "stream_id = 'org.md2k.autosense.accel.activity.60seconds'\n",
    "acl_activity = CC.get_stream(stream_id)"
   ]
  },
  {
   "cell_type": "code",
   "execution_count": null,
   "metadata": {},
   "outputs": [],
   "source": [
    "df = acl_activity.select('activity').toPandas()"
   ]
  },
  {
   "cell_type": "code",
   "execution_count": null,
   "metadata": {},
   "outputs": [],
   "source": [
    "df.columns"
   ]
  },
  {
   "cell_type": "code",
   "execution_count": null,
   "metadata": {},
   "outputs": [],
   "source": [
    "df['activity'][:100]"
   ]
  },
  {
   "cell_type": "code",
   "execution_count": null,
   "metadata": {},
   "outputs": [],
   "source": [
    "from pyspark.sql.functions import col, countDistinct,sumDistinct\n",
    "acl_activity.agg(sum(col(\"activity\")).alias(\"count\")).show()"
   ]
  },
  {
   "cell_type": "code",
   "execution_count": null,
   "metadata": {},
   "outputs": [],
   "source": [
    "def cross_entropy(p, q):\n",
    "\treturn -sum([p[i]*np.log2(q[i]) for i in range(len(p)) if q[i]>0])"
   ]
  },
  {
   "cell_type": "code",
   "execution_count": null,
   "metadata": {},
   "outputs": [],
   "source": [
    "for i in range(20):\n",
    "    print(cross_entropy(np.random.randn(10),np.random.randn(10)))"
   ]
  },
  {
   "cell_type": "code",
   "execution_count": null,
   "metadata": {},
   "outputs": [],
   "source": []
  },
  {
   "cell_type": "code",
   "execution_count": null,
   "metadata": {},
   "outputs": [],
   "source": []
  }
 ],
 "metadata": {
  "kernelspec": {
   "display_name": "High Performance CC3.3",
   "language": "python",
   "name": "cc33_high_performance"
  },
  "language_info": {
   "codemirror_mode": {
    "name": "ipython",
    "version": 3
   },
   "file_extension": ".py",
   "mimetype": "text/x-python",
   "name": "python",
   "nbconvert_exporter": "python",
   "pygments_lexer": "ipython3",
   "version": "3.6.8"
  }
 },
 "nbformat": 4,
 "nbformat_minor": 2
}
